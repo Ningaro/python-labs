{
 "cells": [
  {
   "cell_type": "markdown",
   "id": "embedded-desire",
   "metadata": {},
   "source": [
    "## Задание 1\n",
    "Массив `A` состоит из целых положительных чисел - длин отрезков. Составьте из трех отрезков такой треугольник, чтобы его периметр был максимально возможным. Если невозможно\n",
    "составить треугольник с положительной площадью - функция возвращает 0."
   ]
  },
  {
   "cell_type": "code",
   "execution_count": 84,
   "id": "informal-position",
   "metadata": {},
   "outputs": [
    {
     "name": "stdout",
     "output_type": "stream",
     "text": [
      "3\n",
      "2\n",
      "1\n",
      "2\n",
      "[2, 1, 2]\n",
      "5\n"
     ]
    }
   ],
   "source": [
    "# Функция для расчета максимального периметра\n",
    "def maxPerimeter(arr):\n",
    "        maxPer = 0\n",
    "        n = len(arr)\n",
    "        # Перебираем все возможные комбинации чисел из массива по тройкам, так как иммем дело с треугольником\n",
    "        for i in range(n-2):\n",
    "            for j in range(i+1, n-1):\n",
    "                for k in range(j+1, n):\n",
    "                    a = arr[i]\n",
    "                    b = arr[j]\n",
    "                    c = arr[k]\n",
    "                    if a<b+c and b<a+c and c<a+b:\n",
    "                        maxPer = max(maxPer, a+b+c)\n",
    "        return str(maxPer)\n",
    "    \n",
    "# Основная функция\n",
    "def main():\n",
    "    arr = [0]*int(input())\n",
    "    for i in range(len(arr)):\n",
    "        arr[i]=(int(input()))\n",
    "    print(arr)\n",
    "    print(maxPerimeter(arr))\n",
    "\n",
    "main()"
   ]
  },
  {
   "cell_type": "markdown",
   "id": "composite-treasure",
   "metadata": {},
   "source": [
    "## Задание 2\n",
    "Дан массив неотрицательных целых чисел `nums`. Расположите их в таком порядке, чтобы\n",
    "вместе они образовали максимально возможное число.\n",
    "Замечание: Результат может быть очень большим числом, поэтому представьте его как\n",
    "`string`, а не `integer`."
   ]
  },
  {
   "cell_type": "code",
   "execution_count": 98,
   "id": "imported-cassette",
   "metadata": {},
   "outputs": [
    {
     "name": "stdout",
     "output_type": "stream",
     "text": [
      "[0, 2, 5, 12, 623, 3]\n",
      "623532120\n"
     ]
    }
   ],
   "source": [
    "# Фукнция для получения самой большой комбинации\n",
    "def highestComb(arr):\n",
    "    # Получаем длинну (строковую) максимального элемента \n",
    "    maxLength = len(str(max(arr)))\n",
    "    # Превращяем все числа в массиве в строки\n",
    "    K = map(str, arr)\n",
    "    \n",
    "    # Функция которая при сортировке дает числам с маленькой длинной больший вес\n",
    "    def sortKey(s):\n",
    "        return s + s[-1] * (maxLength - len(s))\n",
    "    \n",
    "    # Сортируем масиив строк \n",
    "    sortedList = sorted(K, key=sortKey, reverse=True)\n",
    "    return ''.join(sortedList)\n",
    "    \n",
    "# Основаня функция\n",
    "def main():\n",
    "    arr = [0]*int(input())\n",
    "    for i in range(len(arr)):\n",
    "        arr[i]=(int(input()))\n",
    "    print(arr)\n",
    "    print(highestComb(arr))\n",
    "\n",
    "main()"
   ]
  },
  {
   "cell_type": "markdown",
   "id": "desirable-dakota",
   "metadata": {},
   "source": [
    "## Задание 3\n",
    "Дана матрица `mat` размером `m * n`, значения - целочисленные. Напишите функцию, сортирующую каждую диагональ матрицы по возрастанию и возвращающую получившуюся матрицу."
   ]
  },
  {
   "cell_type": "code",
   "execution_count": 66,
   "id": "needed-speaker",
   "metadata": {},
   "outputs": [
    {
     "name": "stdout",
     "output_type": "stream",
     "text": [
      "11 25 66 12 69 72 \n",
      "23 55 17 45 15 52 \n",
      "75 31 36 44 58 81 \n",
      "22 27 33 25 68 44 \n",
      "84 28 14 11 85 50 \n",
      "\n",
      "11 17 44 12 52 72 \n",
      "11 25 25 45 15 69 \n",
      "14 23 36 44 58 81 \n",
      "22 27 31 55 50 66 \n",
      "84 28 75 33 85 68 \n"
     ]
    }
   ],
   "source": [
    "# Функция для вывода матрицы\n",
    "def printMat(mat):\n",
    "    for i in range(len(mat)): \n",
    "        for j in range(len(mat[i])):\n",
    "            print(mat[i][j], end=\" \")\n",
    "        print()\n",
    "        \n",
    "# Функция для сортировки матрицы\n",
    "def sortMat(mat):\n",
    "    # Печатаем матрицу кторая пришла\n",
    "    printMat(mat)\n",
    "    print()\n",
    "    # Ширина матрицы\n",
    "    w = len(mat[0])\n",
    "    # Высота матрицы\n",
    "    h = len(mat)\n",
    "    \n",
    "    # Создаем массив для всех значений в матрице, где у каждого будет ссылка на диагональ к которой он принадлежит \n",
    "    arrWithAllElem = [-1] * w * h\n",
    "    # Проход по матрице\n",
    "    for i in range(len(mat)): \n",
    "        for j in range(len(mat[i])):\n",
    "            if (arrWithAllElem[j + i * w] == -1):\n",
    "                arrWithAllElem[j + i * w] = []\n",
    "                thisDiagArr = [[i + offset, j + offset, (j+ offset) + (i + offset) * w] for offset in range(min([w,h])) if ((j + offset < w) and (i + offset < h))]\n",
    "                \n",
    "                for k in range(len(thisDiagArr)):\n",
    "                    arrWithAllElem[j + i * w].append(mat[thisDiagArr[k][0]][thisDiagArr[k][1]])\n",
    "                    if (arrWithAllElem[thisDiagArr[k][2]] == -1):\n",
    "                        arrWithAllElem[thisDiagArr[k][2]] = arrWithAllElem[j + i * w]\n",
    "                arrWithAllElem[j + i * w].sort()\n",
    "    \n",
    "    sortedMat = [[0] * w for i in range(h)]\n",
    "    for i in range(len(arrWithAllElem)):\n",
    "        sortedMat[i//w][i%w] = arrWithAllElem[i][0];\n",
    "        arrWithAllElem[i].remove(arrWithAllElem[i][0]);\n",
    "    return sortedMat\n",
    "    \n",
    "\n",
    "        \n",
    "printMat(sortMat([[11, 25, 66, 12, 69, 72], [23, 55, 17, 45, 15, 52], [75, 31, 36,\n",
    "44, 58, 81], [22, 27, 33, 25, 68, 44], [84, 28, 14, 11, 85, 50]]\n",
    "))"
   ]
  },
  {
   "cell_type": "code",
   "execution_count": null,
   "id": "changed-brighton",
   "metadata": {},
   "outputs": [],
   "source": []
  }
 ],
 "metadata": {
  "kernelspec": {
   "display_name": "Python 3",
   "language": "python",
   "name": "python3"
  },
  "language_info": {
   "codemirror_mode": {
    "name": "ipython",
    "version": 3
   },
   "file_extension": ".py",
   "mimetype": "text/x-python",
   "name": "python",
   "nbconvert_exporter": "python",
   "pygments_lexer": "ipython3",
   "version": "3.9.1"
  }
 },
 "nbformat": 4,
 "nbformat_minor": 5
}
