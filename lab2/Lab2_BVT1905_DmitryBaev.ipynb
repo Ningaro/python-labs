{
 "cells": [
  {
   "cell_type": "markdown",
   "id": "fifteen-sailing",
   "metadata": {},
   "source": [
    "# Лабораторная работа №2\n",
    "## Выполнил студент группы БВТ1905 Баев Дмитрий\n",
    "Реализовать методы поиска в соответствии с заданием. Организовать генерацию\n",
    "начального набора случайных данных. Для всех вариантов добавить реализацию\n",
    "добавления, поиска и удаления элементов. Оценить время работы каждого алгоритма\n",
    "поиска и сравнить его со временем работы стандартной функции поиска, используемой в\n",
    "выбранном языке программирования."
   ]
  },
  {
   "cell_type": "code",
   "execution_count": 65,
   "id": "vocal-scanning",
   "metadata": {},
   "outputs": [],
   "source": [
    "# Импорт функции randint из библиотеки random\n",
    "from random import randint\n",
    "# Создание списка из рандомных значений от 1 до 100,\n",
    "# его сортировка по возрастанию\n",
    "arr = []\n",
    "for i in range(11):\n",
    "   arr.append(randint(1, 10))\n",
    "arr.sort()"
   ]
  },
  {
   "cell_type": "code",
   "execution_count": 66,
   "id": "drawn-fortune",
   "metadata": {},
   "outputs": [],
   "source": [
    "# Импорт библиотеки time\n",
    "import time\n",
    "# Описание функции для вывода времени выполнения\n",
    "def finaleTime(t):\n",
    "    return \"--- {0} ms ---\".format(round((time.time() - t)*1000))"
   ]
  },
  {
   "cell_type": "markdown",
   "id": "rough-prophet",
   "metadata": {},
   "source": [
    "### Задание №1"
   ]
  },
  {
   "cell_type": "markdown",
   "id": "norwegian-spencer",
   "metadata": {},
   "source": [
    "искомое число"
   ]
  },
  {
   "cell_type": "code",
   "execution_count": 67,
   "id": "infectious-violation",
   "metadata": {},
   "outputs": [
    {
     "name": "stdout",
     "output_type": "stream",
     "text": [
      "9\n"
     ]
    }
   ],
   "source": [
    "value = int(input())\n",
    "# value = randint(1, 5000)\n",
    "# print(value)"
   ]
  },
  {
   "cell_type": "markdown",
   "id": "egyptian-oxford",
   "metadata": {},
   "source": [
    "#### Бинарный поиск\n",
    "1. Находится средний элемент последовательности. Для этого первый и последний индексы связываются с переменными, а индекс среднего элемента вычисляется.\n",
    "2. Значение среднего элемента сравнивается с искомым значение. В зависимости от того, больше оно или меньше значения среднего элемента, дальнейший поиск будет происходить только в левой или только в правой половинах массива. Если значение среднего элемента оказывается равным искомому, поиск завершается.\n",
    "3. Иначе одна из границ исследуемой последовательности сдвигается. Если искомое значение больше значения среднего элемента, то нижняя граница сдвигается за средний элемент на один элемент справа. Если искомое значение меньше значения среднего элемента, то верхняя граница сдвигается на элемент перед средним.\n",
    "4. Снова находится средний элемент теперь уже в выбранной половине. Описанный выше алгоритм повторяется для данного среза"
   ]
  },
  {
   "cell_type": "code",
   "execution_count": 88,
   "id": "caring-truck",
   "metadata": {
    "scrolled": true
   },
   "outputs": [],
   "source": [
    "import copy\n",
    "class Binary:\n",
    "    def __init__(self, arr):\n",
    "        timer = time.time()\n",
    "        self.arr = copy.copy(arr)\n",
    "        self.arr.sort()\n",
    "        self.sortTime = finaleTime(timer)\n",
    "        print(self.arr)\n",
    "        \n",
    "    def search(self, value):\n",
    "        mid = len(self.arr) // 2\n",
    "        low = 0\n",
    "        high = len(self.arr) - 1\n",
    "        while self.arr[mid] != value and low <= high:\n",
    "            if value > self.arr[mid]:\n",
    "                low = mid + 1\n",
    "            else:\n",
    "                high = mid - 1\n",
    "            mid = (low + high) // 2\n",
    "\n",
    "        if low > high:\n",
    "            return -1\n",
    "        else:\n",
    "            return mid\n",
    "            \n",
    "    def add(self, value):\n",
    "        mid = len(self.arr) // 2\n",
    "        low = 0\n",
    "        high = len(self.arr) - 1\n",
    "        while (self.arr[mid] != value) and (low <= high) and (len(self.arr[low:high]) > 1):\n",
    "            if value > self.arr[mid]:\n",
    "                low = mid + 1\n",
    "            else:\n",
    "                high = mid - 1\n",
    "            mid = (low + high) // 2\n",
    "            \n",
    "        return \"mid - {0}, arr[{1}:{2}] - {3}\".format(mid, low, high, self.arr[low:high])\n",
    "        \n",
    "    def delete(self, number):\n",
    "        return \"None\"\n"
   ]
  },
  {
   "cell_type": "code",
   "execution_count": 89,
   "id": "automotive-jonathan",
   "metadata": {},
   "outputs": [
    {
     "name": "stdout",
     "output_type": "stream",
     "text": [
      "[1, 2, 2, 2, 3, 5, 7, 7, 8, 8, 9]\n",
      "10\n",
      "mid - 5, arr[0:10] - [1, 2, 2, 2, 3, 5, 7, 7, 8, 8]\n",
      "mid - 9, arr[9:10] - [8]\n"
     ]
    }
   ],
   "source": [
    "BinaryTest = Binary(arr)\n",
    "print(BinaryTest.search(value))\n",
    "print(BinaryTest.add(5))\n",
    "print(BinaryTest.add(10))"
   ]
  },
  {
   "cell_type": "code",
   "execution_count": null,
   "id": "identical-advocacy",
   "metadata": {},
   "outputs": [],
   "source": []
  },
  {
   "cell_type": "code",
   "execution_count": null,
   "id": "concerned-lewis",
   "metadata": {},
   "outputs": [],
   "source": []
  }
 ],
 "metadata": {
  "kernelspec": {
   "display_name": "Python 3",
   "language": "python",
   "name": "python3"
  },
  "language_info": {
   "codemirror_mode": {
    "name": "ipython",
    "version": 3
   },
   "file_extension": ".py",
   "mimetype": "text/x-python",
   "name": "python",
   "nbconvert_exporter": "python",
   "pygments_lexer": "ipython3",
   "version": "3.9.1"
  }
 },
 "nbformat": 4,
 "nbformat_minor": 5
}
