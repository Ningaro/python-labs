{
 "cells": [
  {
   "cell_type": "markdown",
   "id": "funky-savannah",
   "metadata": {},
   "source": [
    "# Лабораторная работа №3\n",
    "## Выполнил студент группы БВТ1905 Баев Дмитрий\n"
   ]
  },
  {
   "cell_type": "markdown",
   "id": "independent-spirit",
   "metadata": {},
   "source": [
    "> Дополнительные модули, использованные при выполнение лабораторной"
   ]
  },
  {
   "cell_type": "code",
   "execution_count": 93,
   "id": "fluid-worcester",
   "metadata": {},
   "outputs": [],
   "source": [
    "# Необходим при замере скорости выполнения кода\n",
    "from datetime import datetime as t"
   ]
  },
  {
   "cell_type": "markdown",
   "id": "inclusive-motorcycle",
   "metadata": {},
   "source": [
    "### Задание №1\n",
    "Реализовать методы поиска подстроки в строке. Добавить возможность ввода строки и подстроки с клавиатуры. Предусмотреть возможность существования пробела. Реализовать возможность выбора опции чувствительности или нечувствительности к регистру. Оценить время работы каждого алгоритма поиска и сравнить его со временем работы стандартной функции поиска, используемой в выбранном языке программирования"
   ]
  },
  {
   "cell_type": "markdown",
   "id": "interracial-communication",
   "metadata": {},
   "source": [
    "#### Алгоритм Кнута-Морриса-Пратта"
   ]
  },
  {
   "cell_type": "code",
   "execution_count": 94,
   "id": "presidential-level",
   "metadata": {},
   "outputs": [],
   "source": [
    "# Воспомогательная функция, которая вовращяет массив чисел равный по длине входной строке\n",
    "# и на каждой позици указывает, указывает на повторение с начала исходной строки\n",
    "def prefix(s):\n",
    "    # Создаем массив длинной в стороку\n",
    "    v = [0]*len(s)\n",
    "    # Запускаем цикл for со 2-ого по последний эллемент строки\n",
    "    for i in range(1,len(s)):\n",
    "        # Значение предыдущего эллемента в массиве\n",
    "        k = v[i-1]\n",
    "        while k > 0 and s[k] != s[i]:\n",
    "            k = v[k-1]\n",
    "        # Встретили ли мы символ с первой строки снова или нет?\n",
    "        if s[k] == s[i]:\n",
    "            k = k + 1\n",
    "        v[i] = k\n",
    "    return v\n",
    "\n",
    "# Алгоритм поиска, получает на вход искомую строку, исходную \n",
    "# и необ. параметр указывающий на чувст. к регистру при поиске\n",
    "def kmp(s,t, isCaseSen = True):\n",
    "    # Если функция вызвана с отлюченной чусвт. к регистру,\n",
    "    # то переводим все строки в нижний регистр\n",
    "    if not isCaseSen:\n",
    "        s.lower()\n",
    "        t.lower()\n",
    "    index = -1\n",
    "    # Определяем префикс в поисковой строке\n",
    "    f = prefix(s)\n",
    "    k = 0\n",
    "    # Перебираем в цикле for все символы в исходной строке\n",
    "    for i in range(len(t)):\n",
    "        # Сбрасываем счетчик повторений\n",
    "        while k > 0 and s[k] != t[i]:\n",
    "            k = f[k-1]\n",
    "        # Cчитаем сколько символов в исходной строке повторилось из исходной\n",
    "        if s[k] == t[i]:\n",
    "            k = k + 1\n",
    "        if k == len(s):\n",
    "            index = i - len(s) + 1\n",
    "            break\n",
    "    return index"
   ]
  },
  {
   "cell_type": "markdown",
   "id": "downtown-option",
   "metadata": {},
   "source": [
    "#### Упрощенный алгоритм Бойера-Мура"
   ]
  },
  {
   "cell_type": "code",
   "execution_count": null,
   "id": "respective-reggae",
   "metadata": {},
   "outputs": [],
   "source": []
  },
  {
   "cell_type": "markdown",
   "id": "illegal-disabled",
   "metadata": {},
   "source": [
    "#### Сравнение с со стандартной функцией поиска подстроки в `Python`"
   ]
  },
  {
   "cell_type": "code",
   "execution_count": 172,
   "id": "august-management",
   "metadata": {},
   "outputs": [
    {
     "name": "stdout",
     "output_type": "stream",
     "text": [
      "Время:  0.004 сек | Результат:  9045414 | Стандартная функция\n",
      "Время:  3.132 сек | Результат:  9045414 | Алг. Кнута-Морриса-Пратта\n"
     ]
    }
   ],
   "source": [
    "baseStr = str(open('task1/text.txt', 'r', encoding=\"utf8\").read())\n",
    "searchStr = str(open('task1/search.txt', 'r', encoding=\"utf8\").read())\n",
    "\n",
    "# Стандартная функция\n",
    "start = float(t.now().strftime('%S.%f')[:-3])\n",
    "simpleRes = baseStr.find(searchStr)\n",
    "finish = float(t.now().strftime('%S.%f')[:-3])\n",
    "print (\"Время: \", \"{:.3f} сек\".format(round(finish-start, 3)), \"| Результат: \", simpleRes, \"| Стандартная функция\")\n",
    "\n",
    "# Алг. Кнута-Морриса-Пратта\n",
    "start = float(t.now().strftime('%S.%f')[:-3])\n",
    "kmpRes = kmp(searchStr, baseStr)\n",
    "finish = float(t.now().strftime('%S.%f')[:-3])\n",
    "print (\"Время: \", \"{:.3f} сек\".format(round(finish-start, 3)), \"| Результат: \", kmpRes, \"| Алг. Кнута-Морриса-Пратта\")"
   ]
  }
 ],
 "metadata": {
  "kernelspec": {
   "display_name": "Python 3",
   "language": "python",
   "name": "python3"
  },
  "language_info": {
   "codemirror_mode": {
    "name": "ipython",
    "version": 3
   },
   "file_extension": ".py",
   "mimetype": "text/x-python",
   "name": "python",
   "nbconvert_exporter": "python",
   "pygments_lexer": "ipython3",
   "version": "3.9.1"
  }
 },
 "nbformat": 4,
 "nbformat_minor": 5
}